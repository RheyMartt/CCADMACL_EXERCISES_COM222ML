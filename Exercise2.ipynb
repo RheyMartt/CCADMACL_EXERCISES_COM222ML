{
  "cells": [
    {
      "cell_type": "markdown",
      "metadata": {
        "id": "view-in-github",
        "colab_type": "text"
      },
      "source": [
        "<a href=\"https://colab.research.google.com/github/RheyMartt/CCADMACL_EXERCISES_COM222ML/blob/main/Exercise2.ipynb\" target=\"_parent\"><img src=\"https://colab.research.google.com/assets/colab-badge.svg\" alt=\"Open In Colab\"/></a>"
      ]
    },
    {
      "cell_type": "markdown",
      "source": [
        "## Exercise 2: Use Gradient Boost for Regression\n",
        "\n",
        "Instructions:\n",
        "\n",
        "- Use the Dataset File to train your model\n",
        "- Use the Test File to generate your results\n",
        "- Use the Sample Submission file to generate the same format\n",
        "Submit your results to:\n",
        "https://www.kaggle.com/competitions/playground-series-s4e12/overview\n",
        "\n"
      ],
      "metadata": {
        "id": "99_2rPCJrNfK"
      }
    },
    {
      "cell_type": "code",
      "execution_count": 28,
      "metadata": {
        "id": "R_se3V8gftVL"
      },
      "outputs": [],
      "source": [
        "import pandas as pd\n",
        "import seaborn as sns\n",
        "\n",
        "from matplotlib import pyplot as plt\n",
        "from sklearn.ensemble import GradientBoostingRegressor\n",
        "from sklearn.model_selection import train_test_split\n",
        "from sklearn.metrics import mean_squared_error\n",
        "from sklearn.impute import SimpleImputer as SimpleInputer\n",
        "import numpy as np\n",
        "from sklearn.preprocessing import StandardScaler, OneHotEncoder\n",
        "from sklearn.compose import ColumnTransformer\n",
        "from sklearn.pipeline import Pipeline\n",
        "from sklearn.metrics import root_mean_squared_log_error"
      ]
    },
    {
      "cell_type": "markdown",
      "metadata": {
        "id": "eCNNEXIhftVN"
      },
      "source": [
        "## Dataset\n",
        "Train, test and sample submission file can be found in this link\n",
        "https://www.kaggle.com/competitions/playground-series-s4e12/data"
      ]
    },
    {
      "cell_type": "markdown",
      "source": [
        "## 1. Load the Data"
      ],
      "metadata": {
        "id": "rjhN8ODcVYxH"
      }
    },
    {
      "cell_type": "code",
      "source": [
        "df = pd.read_csv('train.csv')\n",
        "dt = pd.read_csv('test.csv')\n",
        "sf = pd.read_csv('sample_submission.csv')"
      ],
      "metadata": {
        "id": "tEcU-yJmVZwR"
      },
      "execution_count": 2,
      "outputs": []
    },
    {
      "cell_type": "code",
      "source": [
        "df['source'] = 'train'\n",
        "dt['source'] = 'test'\n",
        "df.head()\n",
        "\n",
        "data = pd.concat([df, dt], ignore_index=True)\n",
        "print(data.shape)\n",
        "data.head()"
      ],
      "metadata": {
        "colab": {
          "base_uri": "https://localhost:8080/",
          "height": 377
        },
        "id": "-81Ng1Nt34hy",
        "outputId": "562545f5-c828-4422-99ab-b8c9ff537244"
      },
      "execution_count": 3,
      "outputs": [
        {
          "output_type": "stream",
          "name": "stdout",
          "text": [
            "(2000000, 22)\n"
          ]
        },
        {
          "output_type": "execute_result",
          "data": {
            "text/plain": [
              "   id   Age  Gender  Annual Income Marital Status  Number of Dependents  \\\n",
              "0   0  19.0  Female        10049.0        Married                   1.0   \n",
              "1   1  39.0  Female        31678.0       Divorced                   3.0   \n",
              "2   2  23.0    Male        25602.0       Divorced                   3.0   \n",
              "3   3  21.0    Male       141855.0        Married                   2.0   \n",
              "4   4  21.0    Male        39651.0         Single                   1.0   \n",
              "\n",
              "  Education Level     Occupation  Health Score  Location  ... Vehicle Age  \\\n",
              "0      Bachelor's  Self-Employed     22.598761     Urban  ...        17.0   \n",
              "1        Master's            NaN     15.569731     Rural  ...        12.0   \n",
              "2     High School  Self-Employed     47.177549  Suburban  ...        14.0   \n",
              "3      Bachelor's            NaN     10.938144     Rural  ...         0.0   \n",
              "4      Bachelor's  Self-Employed     20.376094     Rural  ...         8.0   \n",
              "\n",
              "   Credit Score  Insurance Duration           Policy Start Date  \\\n",
              "0         372.0                 5.0  2023-12-23 15:21:39.134960   \n",
              "1         694.0                 2.0  2023-06-12 15:21:39.111551   \n",
              "2           NaN                 3.0  2023-09-30 15:21:39.221386   \n",
              "3         367.0                 1.0  2024-06-12 15:21:39.226954   \n",
              "4         598.0                 4.0  2021-12-01 15:21:39.252145   \n",
              "\n",
              "   Customer Feedback Smoking Status Exercise Frequency Property Type  \\\n",
              "0               Poor             No             Weekly         House   \n",
              "1            Average            Yes            Monthly         House   \n",
              "2               Good            Yes             Weekly         House   \n",
              "3               Poor            Yes              Daily     Apartment   \n",
              "4               Poor            Yes             Weekly         House   \n",
              "\n",
              "  Premium Amount source  \n",
              "0         2869.0  train  \n",
              "1         1483.0  train  \n",
              "2          567.0  train  \n",
              "3          765.0  train  \n",
              "4         2022.0  train  \n",
              "\n",
              "[5 rows x 22 columns]"
            ],
            "text/html": [
              "\n",
              "  <div id=\"df-e55270f8-25fe-49be-b6ad-e74d759fac96\" class=\"colab-df-container\">\n",
              "    <div>\n",
              "<style scoped>\n",
              "    .dataframe tbody tr th:only-of-type {\n",
              "        vertical-align: middle;\n",
              "    }\n",
              "\n",
              "    .dataframe tbody tr th {\n",
              "        vertical-align: top;\n",
              "    }\n",
              "\n",
              "    .dataframe thead th {\n",
              "        text-align: right;\n",
              "    }\n",
              "</style>\n",
              "<table border=\"1\" class=\"dataframe\">\n",
              "  <thead>\n",
              "    <tr style=\"text-align: right;\">\n",
              "      <th></th>\n",
              "      <th>id</th>\n",
              "      <th>Age</th>\n",
              "      <th>Gender</th>\n",
              "      <th>Annual Income</th>\n",
              "      <th>Marital Status</th>\n",
              "      <th>Number of Dependents</th>\n",
              "      <th>Education Level</th>\n",
              "      <th>Occupation</th>\n",
              "      <th>Health Score</th>\n",
              "      <th>Location</th>\n",
              "      <th>...</th>\n",
              "      <th>Vehicle Age</th>\n",
              "      <th>Credit Score</th>\n",
              "      <th>Insurance Duration</th>\n",
              "      <th>Policy Start Date</th>\n",
              "      <th>Customer Feedback</th>\n",
              "      <th>Smoking Status</th>\n",
              "      <th>Exercise Frequency</th>\n",
              "      <th>Property Type</th>\n",
              "      <th>Premium Amount</th>\n",
              "      <th>source</th>\n",
              "    </tr>\n",
              "  </thead>\n",
              "  <tbody>\n",
              "    <tr>\n",
              "      <th>0</th>\n",
              "      <td>0</td>\n",
              "      <td>19.0</td>\n",
              "      <td>Female</td>\n",
              "      <td>10049.0</td>\n",
              "      <td>Married</td>\n",
              "      <td>1.0</td>\n",
              "      <td>Bachelor's</td>\n",
              "      <td>Self-Employed</td>\n",
              "      <td>22.598761</td>\n",
              "      <td>Urban</td>\n",
              "      <td>...</td>\n",
              "      <td>17.0</td>\n",
              "      <td>372.0</td>\n",
              "      <td>5.0</td>\n",
              "      <td>2023-12-23 15:21:39.134960</td>\n",
              "      <td>Poor</td>\n",
              "      <td>No</td>\n",
              "      <td>Weekly</td>\n",
              "      <td>House</td>\n",
              "      <td>2869.0</td>\n",
              "      <td>train</td>\n",
              "    </tr>\n",
              "    <tr>\n",
              "      <th>1</th>\n",
              "      <td>1</td>\n",
              "      <td>39.0</td>\n",
              "      <td>Female</td>\n",
              "      <td>31678.0</td>\n",
              "      <td>Divorced</td>\n",
              "      <td>3.0</td>\n",
              "      <td>Master's</td>\n",
              "      <td>NaN</td>\n",
              "      <td>15.569731</td>\n",
              "      <td>Rural</td>\n",
              "      <td>...</td>\n",
              "      <td>12.0</td>\n",
              "      <td>694.0</td>\n",
              "      <td>2.0</td>\n",
              "      <td>2023-06-12 15:21:39.111551</td>\n",
              "      <td>Average</td>\n",
              "      <td>Yes</td>\n",
              "      <td>Monthly</td>\n",
              "      <td>House</td>\n",
              "      <td>1483.0</td>\n",
              "      <td>train</td>\n",
              "    </tr>\n",
              "    <tr>\n",
              "      <th>2</th>\n",
              "      <td>2</td>\n",
              "      <td>23.0</td>\n",
              "      <td>Male</td>\n",
              "      <td>25602.0</td>\n",
              "      <td>Divorced</td>\n",
              "      <td>3.0</td>\n",
              "      <td>High School</td>\n",
              "      <td>Self-Employed</td>\n",
              "      <td>47.177549</td>\n",
              "      <td>Suburban</td>\n",
              "      <td>...</td>\n",
              "      <td>14.0</td>\n",
              "      <td>NaN</td>\n",
              "      <td>3.0</td>\n",
              "      <td>2023-09-30 15:21:39.221386</td>\n",
              "      <td>Good</td>\n",
              "      <td>Yes</td>\n",
              "      <td>Weekly</td>\n",
              "      <td>House</td>\n",
              "      <td>567.0</td>\n",
              "      <td>train</td>\n",
              "    </tr>\n",
              "    <tr>\n",
              "      <th>3</th>\n",
              "      <td>3</td>\n",
              "      <td>21.0</td>\n",
              "      <td>Male</td>\n",
              "      <td>141855.0</td>\n",
              "      <td>Married</td>\n",
              "      <td>2.0</td>\n",
              "      <td>Bachelor's</td>\n",
              "      <td>NaN</td>\n",
              "      <td>10.938144</td>\n",
              "      <td>Rural</td>\n",
              "      <td>...</td>\n",
              "      <td>0.0</td>\n",
              "      <td>367.0</td>\n",
              "      <td>1.0</td>\n",
              "      <td>2024-06-12 15:21:39.226954</td>\n",
              "      <td>Poor</td>\n",
              "      <td>Yes</td>\n",
              "      <td>Daily</td>\n",
              "      <td>Apartment</td>\n",
              "      <td>765.0</td>\n",
              "      <td>train</td>\n",
              "    </tr>\n",
              "    <tr>\n",
              "      <th>4</th>\n",
              "      <td>4</td>\n",
              "      <td>21.0</td>\n",
              "      <td>Male</td>\n",
              "      <td>39651.0</td>\n",
              "      <td>Single</td>\n",
              "      <td>1.0</td>\n",
              "      <td>Bachelor's</td>\n",
              "      <td>Self-Employed</td>\n",
              "      <td>20.376094</td>\n",
              "      <td>Rural</td>\n",
              "      <td>...</td>\n",
              "      <td>8.0</td>\n",
              "      <td>598.0</td>\n",
              "      <td>4.0</td>\n",
              "      <td>2021-12-01 15:21:39.252145</td>\n",
              "      <td>Poor</td>\n",
              "      <td>Yes</td>\n",
              "      <td>Weekly</td>\n",
              "      <td>House</td>\n",
              "      <td>2022.0</td>\n",
              "      <td>train</td>\n",
              "    </tr>\n",
              "  </tbody>\n",
              "</table>\n",
              "<p>5 rows × 22 columns</p>\n",
              "</div>\n",
              "    <div class=\"colab-df-buttons\">\n",
              "\n",
              "  <div class=\"colab-df-container\">\n",
              "    <button class=\"colab-df-convert\" onclick=\"convertToInteractive('df-e55270f8-25fe-49be-b6ad-e74d759fac96')\"\n",
              "            title=\"Convert this dataframe to an interactive table.\"\n",
              "            style=\"display:none;\">\n",
              "\n",
              "  <svg xmlns=\"http://www.w3.org/2000/svg\" height=\"24px\" viewBox=\"0 -960 960 960\">\n",
              "    <path d=\"M120-120v-720h720v720H120Zm60-500h600v-160H180v160Zm220 220h160v-160H400v160Zm0 220h160v-160H400v160ZM180-400h160v-160H180v160Zm440 0h160v-160H620v160ZM180-180h160v-160H180v160Zm440 0h160v-160H620v160Z\"/>\n",
              "  </svg>\n",
              "    </button>\n",
              "\n",
              "  <style>\n",
              "    .colab-df-container {\n",
              "      display:flex;\n",
              "      gap: 12px;\n",
              "    }\n",
              "\n",
              "    .colab-df-convert {\n",
              "      background-color: #E8F0FE;\n",
              "      border: none;\n",
              "      border-radius: 50%;\n",
              "      cursor: pointer;\n",
              "      display: none;\n",
              "      fill: #1967D2;\n",
              "      height: 32px;\n",
              "      padding: 0 0 0 0;\n",
              "      width: 32px;\n",
              "    }\n",
              "\n",
              "    .colab-df-convert:hover {\n",
              "      background-color: #E2EBFA;\n",
              "      box-shadow: 0px 1px 2px rgba(60, 64, 67, 0.3), 0px 1px 3px 1px rgba(60, 64, 67, 0.15);\n",
              "      fill: #174EA6;\n",
              "    }\n",
              "\n",
              "    .colab-df-buttons div {\n",
              "      margin-bottom: 4px;\n",
              "    }\n",
              "\n",
              "    [theme=dark] .colab-df-convert {\n",
              "      background-color: #3B4455;\n",
              "      fill: #D2E3FC;\n",
              "    }\n",
              "\n",
              "    [theme=dark] .colab-df-convert:hover {\n",
              "      background-color: #434B5C;\n",
              "      box-shadow: 0px 1px 3px 1px rgba(0, 0, 0, 0.15);\n",
              "      filter: drop-shadow(0px 1px 2px rgba(0, 0, 0, 0.3));\n",
              "      fill: #FFFFFF;\n",
              "    }\n",
              "  </style>\n",
              "\n",
              "    <script>\n",
              "      const buttonEl =\n",
              "        document.querySelector('#df-e55270f8-25fe-49be-b6ad-e74d759fac96 button.colab-df-convert');\n",
              "      buttonEl.style.display =\n",
              "        google.colab.kernel.accessAllowed ? 'block' : 'none';\n",
              "\n",
              "      async function convertToInteractive(key) {\n",
              "        const element = document.querySelector('#df-e55270f8-25fe-49be-b6ad-e74d759fac96');\n",
              "        const dataTable =\n",
              "          await google.colab.kernel.invokeFunction('convertToInteractive',\n",
              "                                                    [key], {});\n",
              "        if (!dataTable) return;\n",
              "\n",
              "        const docLinkHtml = 'Like what you see? Visit the ' +\n",
              "          '<a target=\"_blank\" href=https://colab.research.google.com/notebooks/data_table.ipynb>data table notebook</a>'\n",
              "          + ' to learn more about interactive tables.';\n",
              "        element.innerHTML = '';\n",
              "        dataTable['output_type'] = 'display_data';\n",
              "        await google.colab.output.renderOutput(dataTable, element);\n",
              "        const docLink = document.createElement('div');\n",
              "        docLink.innerHTML = docLinkHtml;\n",
              "        element.appendChild(docLink);\n",
              "      }\n",
              "    </script>\n",
              "  </div>\n",
              "\n",
              "\n",
              "<div id=\"df-61e690ee-4205-4687-8b55-c917323439c3\">\n",
              "  <button class=\"colab-df-quickchart\" onclick=\"quickchart('df-61e690ee-4205-4687-8b55-c917323439c3')\"\n",
              "            title=\"Suggest charts\"\n",
              "            style=\"display:none;\">\n",
              "\n",
              "<svg xmlns=\"http://www.w3.org/2000/svg\" height=\"24px\"viewBox=\"0 0 24 24\"\n",
              "     width=\"24px\">\n",
              "    <g>\n",
              "        <path d=\"M19 3H5c-1.1 0-2 .9-2 2v14c0 1.1.9 2 2 2h14c1.1 0 2-.9 2-2V5c0-1.1-.9-2-2-2zM9 17H7v-7h2v7zm4 0h-2V7h2v10zm4 0h-2v-4h2v4z\"/>\n",
              "    </g>\n",
              "</svg>\n",
              "  </button>\n",
              "\n",
              "<style>\n",
              "  .colab-df-quickchart {\n",
              "      --bg-color: #E8F0FE;\n",
              "      --fill-color: #1967D2;\n",
              "      --hover-bg-color: #E2EBFA;\n",
              "      --hover-fill-color: #174EA6;\n",
              "      --disabled-fill-color: #AAA;\n",
              "      --disabled-bg-color: #DDD;\n",
              "  }\n",
              "\n",
              "  [theme=dark] .colab-df-quickchart {\n",
              "      --bg-color: #3B4455;\n",
              "      --fill-color: #D2E3FC;\n",
              "      --hover-bg-color: #434B5C;\n",
              "      --hover-fill-color: #FFFFFF;\n",
              "      --disabled-bg-color: #3B4455;\n",
              "      --disabled-fill-color: #666;\n",
              "  }\n",
              "\n",
              "  .colab-df-quickchart {\n",
              "    background-color: var(--bg-color);\n",
              "    border: none;\n",
              "    border-radius: 50%;\n",
              "    cursor: pointer;\n",
              "    display: none;\n",
              "    fill: var(--fill-color);\n",
              "    height: 32px;\n",
              "    padding: 0;\n",
              "    width: 32px;\n",
              "  }\n",
              "\n",
              "  .colab-df-quickchart:hover {\n",
              "    background-color: var(--hover-bg-color);\n",
              "    box-shadow: 0 1px 2px rgba(60, 64, 67, 0.3), 0 1px 3px 1px rgba(60, 64, 67, 0.15);\n",
              "    fill: var(--button-hover-fill-color);\n",
              "  }\n",
              "\n",
              "  .colab-df-quickchart-complete:disabled,\n",
              "  .colab-df-quickchart-complete:disabled:hover {\n",
              "    background-color: var(--disabled-bg-color);\n",
              "    fill: var(--disabled-fill-color);\n",
              "    box-shadow: none;\n",
              "  }\n",
              "\n",
              "  .colab-df-spinner {\n",
              "    border: 2px solid var(--fill-color);\n",
              "    border-color: transparent;\n",
              "    border-bottom-color: var(--fill-color);\n",
              "    animation:\n",
              "      spin 1s steps(1) infinite;\n",
              "  }\n",
              "\n",
              "  @keyframes spin {\n",
              "    0% {\n",
              "      border-color: transparent;\n",
              "      border-bottom-color: var(--fill-color);\n",
              "      border-left-color: var(--fill-color);\n",
              "    }\n",
              "    20% {\n",
              "      border-color: transparent;\n",
              "      border-left-color: var(--fill-color);\n",
              "      border-top-color: var(--fill-color);\n",
              "    }\n",
              "    30% {\n",
              "      border-color: transparent;\n",
              "      border-left-color: var(--fill-color);\n",
              "      border-top-color: var(--fill-color);\n",
              "      border-right-color: var(--fill-color);\n",
              "    }\n",
              "    40% {\n",
              "      border-color: transparent;\n",
              "      border-right-color: var(--fill-color);\n",
              "      border-top-color: var(--fill-color);\n",
              "    }\n",
              "    60% {\n",
              "      border-color: transparent;\n",
              "      border-right-color: var(--fill-color);\n",
              "    }\n",
              "    80% {\n",
              "      border-color: transparent;\n",
              "      border-right-color: var(--fill-color);\n",
              "      border-bottom-color: var(--fill-color);\n",
              "    }\n",
              "    90% {\n",
              "      border-color: transparent;\n",
              "      border-bottom-color: var(--fill-color);\n",
              "    }\n",
              "  }\n",
              "</style>\n",
              "\n",
              "  <script>\n",
              "    async function quickchart(key) {\n",
              "      const quickchartButtonEl =\n",
              "        document.querySelector('#' + key + ' button');\n",
              "      quickchartButtonEl.disabled = true;  // To prevent multiple clicks.\n",
              "      quickchartButtonEl.classList.add('colab-df-spinner');\n",
              "      try {\n",
              "        const charts = await google.colab.kernel.invokeFunction(\n",
              "            'suggestCharts', [key], {});\n",
              "      } catch (error) {\n",
              "        console.error('Error during call to suggestCharts:', error);\n",
              "      }\n",
              "      quickchartButtonEl.classList.remove('colab-df-spinner');\n",
              "      quickchartButtonEl.classList.add('colab-df-quickchart-complete');\n",
              "    }\n",
              "    (() => {\n",
              "      let quickchartButtonEl =\n",
              "        document.querySelector('#df-61e690ee-4205-4687-8b55-c917323439c3 button');\n",
              "      quickchartButtonEl.style.display =\n",
              "        google.colab.kernel.accessAllowed ? 'block' : 'none';\n",
              "    })();\n",
              "  </script>\n",
              "</div>\n",
              "\n",
              "    </div>\n",
              "  </div>\n"
            ],
            "application/vnd.google.colaboratory.intrinsic+json": {
              "type": "dataframe",
              "variable_name": "data"
            }
          },
          "metadata": {},
          "execution_count": 3
        }
      ]
    },
    {
      "cell_type": "markdown",
      "source": [
        "## 2. Perform Data preprocessing"
      ],
      "metadata": {
        "id": "GlMLKDF_rvUM"
      }
    },
    {
      "cell_type": "code",
      "source": [
        "def preprocess_data(data, is_train=True):\n",
        "    data['source'] = 'train' if is_train else 'test'\n",
        "    data['Policy Start Date'] = pd.to_datetime(data['Policy Start Date'])\n",
        "    data['Policy End Date'] = pd.to_datetime(data['Policy End Date'])\n",
        "    data['Vintage'] = (data['Policy End Date'] - data['Policy Start Date']).dt.days\n",
        "\n",
        "    mapping = {\n",
        "        'Gender': {'Male': 0, 'Female': 1},\n",
        "        'Vehicle Class': {'Four-Door Car': 0, 'Two-Door Car': 1},\n",
        "        'Vehicle Size': {'Small': 0, 'Medsize': 1, 'Large': 2},\n",
        "        'Vehicle Damage': {'Yes': 1, 'No': 0},\n",
        "        'Previously Insured': {'Yes': 1, 'No': 0}\n",
        "    }\n",
        "    for col, map_dict in mapping.items():\n",
        "      data[col] = data[col].map(map_dict)\n",
        "\n",
        "    for col in ['Annual Premium (in Rs)', 'Vintage']:\n",
        "        most_frequent_value = data[col].mode()[0]\n",
        "        data[col].fillna(most_frequent_value, inplace=True)"
      ],
      "metadata": {
        "id": "mTSBkyTD5uYi"
      },
      "execution_count": 4,
      "outputs": []
    },
    {
      "cell_type": "code",
      "source": [
        "data.drop(['Policy Start Date'], axis=1, inplace=True)"
      ],
      "metadata": {
        "id": "EgyGi7tB54JR"
      },
      "execution_count": 8,
      "outputs": []
    },
    {
      "cell_type": "code",
      "source": [
        "cat = data.select_dtypes(include='object').columns.tolist()\n",
        "num = data.select_dtypes(include=['float', 'int64']).columns.tolist()"
      ],
      "metadata": {
        "id": "yaoI5Fvs6btC"
      },
      "execution_count": 9,
      "outputs": []
    },
    {
      "cell_type": "code",
      "source": [
        "num_inputer = SimpleInputer(missing_values=np.nan, strategy='mean')\n",
        "cat_inputer = SimpleInputer(missing_values=np.nan, strategy='most_frequent')\n",
        "\n",
        "data[num] = num_inputer.fit_transform(data[num])\n",
        "data[cat] = cat_inputer.fit_transform(data[cat])\n",
        "\n",
        "data[num].fillna(data[num].mean(), inplace=True)\n",
        "data[cat].fillna(data[cat].mode().iloc[0], inplace=True)"
      ],
      "metadata": {
        "colab": {
          "base_uri": "https://localhost:8080/"
        },
        "id": "hvlBHCuZ7Mx0",
        "outputId": "193cb04f-9679-49cf-bf06-912a5bf392f2"
      },
      "execution_count": 12,
      "outputs": [
        {
          "output_type": "stream",
          "name": "stderr",
          "text": [
            "<ipython-input-12-401301f17417>:7: SettingWithCopyWarning: \n",
            "A value is trying to be set on a copy of a slice from a DataFrame\n",
            "\n",
            "See the caveats in the documentation: https://pandas.pydata.org/pandas-docs/stable/user_guide/indexing.html#returning-a-view-versus-a-copy\n",
            "  data[num].fillna(data[num].mean(), inplace=True)\n",
            "<ipython-input-12-401301f17417>:8: SettingWithCopyWarning: \n",
            "A value is trying to be set on a copy of a slice from a DataFrame\n",
            "\n",
            "See the caveats in the documentation: https://pandas.pydata.org/pandas-docs/stable/user_guide/indexing.html#returning-a-view-versus-a-copy\n",
            "  data[cat].fillna(data[cat].mode().iloc[0], inplace=True)\n"
          ]
        }
      ]
    },
    {
      "cell_type": "code",
      "source": [
        "df = data.loc[data['source'] == 'train']\n",
        "dt = data.loc[data['source'] == 'test']\n",
        "\n",
        "df.drop(columns='source', inplace=True)\n",
        "dt.drop(columns='source', inplace=True)"
      ],
      "metadata": {
        "colab": {
          "base_uri": "https://localhost:8080/"
        },
        "id": "CcgH0Fkq7wiT",
        "outputId": "37f20595-bcef-46cc-f8e7-3fe0db8d2647"
      },
      "execution_count": 13,
      "outputs": [
        {
          "output_type": "stream",
          "name": "stderr",
          "text": [
            "<ipython-input-13-24c31774d236>:4: SettingWithCopyWarning: \n",
            "A value is trying to be set on a copy of a slice from a DataFrame\n",
            "\n",
            "See the caveats in the documentation: https://pandas.pydata.org/pandas-docs/stable/user_guide/indexing.html#returning-a-view-versus-a-copy\n",
            "  df.drop(columns='source', inplace=True)\n",
            "<ipython-input-13-24c31774d236>:5: SettingWithCopyWarning: \n",
            "A value is trying to be set on a copy of a slice from a DataFrame\n",
            "\n",
            "See the caveats in the documentation: https://pandas.pydata.org/pandas-docs/stable/user_guide/indexing.html#returning-a-view-versus-a-copy\n",
            "  dt.drop(columns='source', inplace=True)\n"
          ]
        }
      ]
    },
    {
      "cell_type": "code",
      "source": [
        "X = df.drop(columns='Premium Amount')\n",
        "y = df['Premium Amount']"
      ],
      "metadata": {
        "id": "0elVuDXQ8CPX"
      },
      "execution_count": 14,
      "outputs": []
    },
    {
      "cell_type": "code",
      "source": [
        "cat = X.select_dtypes(include='object').columns.tolist()\n",
        "num = X.select_dtypes(include=['float', 'int64']).columns.tolist()"
      ],
      "metadata": {
        "id": "qCs0zR0N8Gyp"
      },
      "execution_count": 15,
      "outputs": []
    },
    {
      "cell_type": "code",
      "source": [
        "preprocessor = ColumnTransformer(\n",
        "    transformers=[\n",
        "        ('num', StandardScaler(), num),\n",
        "        ('cat', OneHotEncoder(), cat)\n",
        "    ])"
      ],
      "metadata": {
        "id": "60YDUI9w8KM7"
      },
      "execution_count": 18,
      "outputs": []
    },
    {
      "cell_type": "code",
      "source": [
        "params = {\n",
        "    'n_estimators': 100,\n",
        "    'learning_rate': 0.1,\n",
        "    'max_depth': 3,\n",
        "    'random_state': 42\n",
        "}\n",
        "\n",
        "model = GradientBoostingRegressor(**params)"
      ],
      "metadata": {
        "id": "ZkL7_2C48c8N"
      },
      "execution_count": 19,
      "outputs": []
    },
    {
      "cell_type": "markdown",
      "source": [
        "## 3. Create a Pipeline"
      ],
      "metadata": {
        "id": "u-z7RFsxWLHM"
      }
    },
    {
      "cell_type": "code",
      "source": [
        "pipeline = Pipeline([\n",
        "    ('preprocessor', preprocessor),\n",
        "    ('model', model)\n",
        "])"
      ],
      "metadata": {
        "id": "PuJFYWuSWNvB"
      },
      "execution_count": 22,
      "outputs": []
    },
    {
      "cell_type": "markdown",
      "source": [
        "## 4. Train the Model"
      ],
      "metadata": {
        "id": "8n-ScOLqze60"
      }
    },
    {
      "cell_type": "code",
      "source": [
        "X_train, X_test, y_train, y_test = train_test_split(X, y, test_size=0.2, random_state=42)"
      ],
      "metadata": {
        "id": "fqLNJkoHzfL4"
      },
      "execution_count": 23,
      "outputs": []
    },
    {
      "cell_type": "code",
      "source": [
        "pipeline.fit(X_train, y_train)\n",
        "\n",
        "y_pred = pipeline.predict(X_test)"
      ],
      "metadata": {
        "id": "EGllE0FV8x6s"
      },
      "execution_count": 24,
      "outputs": []
    },
    {
      "cell_type": "markdown",
      "source": [
        "## 5. Evaluate the Model"
      ],
      "metadata": {
        "id": "IkAsAi29WiDq"
      }
    },
    {
      "cell_type": "code",
      "source": [
        "rmsle = root_mean_squared_log_error(y_test, y_pred)\n",
        "print(f'RMSLE: {rmsle}')"
      ],
      "metadata": {
        "id": "8L0zJYBfWiVX",
        "colab": {
          "base_uri": "https://localhost:8080/"
        },
        "outputId": "e84fef8d-82eb-4e5a-e14c-7400c0687ea0"
      },
      "execution_count": 29,
      "outputs": [
        {
          "output_type": "stream",
          "name": "stdout",
          "text": [
            "RMSLE: 1.159308896572489\n"
          ]
        }
      ]
    },
    {
      "cell_type": "markdown",
      "source": [
        "## Generate Submission File\n",
        "\n",
        "Choose the model that has the best performance to generate a submission file."
      ],
      "metadata": {
        "id": "a6UAAMyepmHi"
      }
    },
    {
      "cell_type": "code",
      "source": [
        "id = sf['id']\n",
        "y_pred = pipeline.predict(dt)\n",
        "\n",
        "# Create a submission DataFrame\n",
        "submission_df = pd.DataFrame({\n",
        "    'id': id,\n",
        "    'Premium Amount': y_pred\n",
        "})\n",
        "\n",
        "# Save the submission DataFrame to a CSV file\n",
        "submission_df.to_csv('submission_file.csv', index=False)\n",
        "print(\"Submission file created: submission_file.csv\")"
      ],
      "metadata": {
        "id": "HrelEEFJpjzI",
        "colab": {
          "base_uri": "https://localhost:8080/"
        },
        "outputId": "fc3cf344-ddbe-4997-e88a-9b2ad6e7424a"
      },
      "execution_count": 32,
      "outputs": [
        {
          "output_type": "stream",
          "name": "stdout",
          "text": [
            "Submission file created: submission_file.csv\n"
          ]
        }
      ]
    }
  ],
  "metadata": {
    "colab": {
      "provenance": [],
      "include_colab_link": true
    },
    "kernelspec": {
      "display_name": "Python 3",
      "name": "python3"
    },
    "language_info": {
      "name": "python",
      "version": "3.12.4"
    }
  },
  "nbformat": 4,
  "nbformat_minor": 0
}